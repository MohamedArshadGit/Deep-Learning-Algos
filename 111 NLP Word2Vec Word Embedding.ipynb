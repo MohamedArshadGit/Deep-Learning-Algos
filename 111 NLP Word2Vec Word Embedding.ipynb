{
 "cells": [
  {
   "cell_type": "code",
   "execution_count": 1,
   "id": "99380532",
   "metadata": {},
   "outputs": [],
   "source": [
    "import re\n",
    "import nltk\n",
    "import gensim\n"
   ]
  },
  {
   "cell_type": "code",
   "execution_count": 2,
   "id": "e271b720",
   "metadata": {},
   "outputs": [],
   "source": [
    "from nltk.tokenize import word_tokenize,sent_tokenize\n",
    "from nltk.corpus import stopwords\n",
    "from gensim.models import Word2Vec"
   ]
  },
  {
   "cell_type": "code",
   "execution_count": 3,
   "id": "5a299160",
   "metadata": {},
   "outputs": [],
   "source": [
    "paragraph = \"\"\"I have three visions for India. In 3000 years of our history, people from all over \n",
    "               the world have come and invaded us, captured our lands, conquered our minds. \n",
    "               From Alexander onwards, the Greeks, the Turks, the Moguls, the Portuguese, the British,\n",
    "               the French, the Dutch, all of them came and looted us, took over what was ours. \n",
    "               Yet we have not done this to any other nation. We have not conquered anyone. \n",
    "               We have not grabbed their land, their culture, \n",
    "               their history and tried to enforce our way of life on them. \n",
    "               Why? Because we respect the freedom of others.That is why my \n",
    "               first vision is that of freedom. I believe that India got its first vision of \n",
    "               this in 1857, when we started the War of Independence. It is this freedom that\n",
    "               we must protect and nurture and build on. If we are not free, no one will respect us.\n",
    "               My second vision for India’s development. For fifty years we have been a developing nation.\n",
    "               It is time we see ourselves as a developed nation. We are among the top 5 nations of the world\n",
    "               in terms of GDP. We have a 10 percent growth rate in most areas. Our poverty levels are falling.\n",
    "               Our achievements are being globally recognised today. Yet we lack the self-confidence to\n",
    "               see ourselves as a developed nation, self-reliant and self-assured. Isn’t this incorrect?\n",
    "               I have a third vision. India must stand up to the world. Because I believe that unless India \n",
    "               stands up to the world, no one will respect us. Only strength respects strength. We must be \n",
    "               strong not only as a military power but also as an economic power. Both must go hand-in-hand. \n",
    "               My good fortune was to have worked with three great minds. Dr. Vikram Sarabhai of the Dept. of \n",
    "               space, Professor Satish Dhawan, who succeeded him and Dr. Brahm Prakash, father of nuclear material.\n",
    "               I was lucky to have worked with all three of them closely and consider this the great opportunity of my life. \n",
    "               I see four milestones in my career\"\"\""
   ]
  },
  {
   "cell_type": "code",
   "execution_count": 9,
   "id": "1e9e5d7a",
   "metadata": {},
   "outputs": [
    {
     "name": "stdout",
     "output_type": "stream",
     "text": [
      "2241\n"
     ]
    }
   ],
   "source": [
    "print(len(paragraph))"
   ]
  },
  {
   "cell_type": "markdown",
   "id": "e3623886",
   "metadata": {},
   "source": [
    "# Preprocessing"
   ]
  },
  {
   "cell_type": "code",
   "execution_count": 4,
   "id": "cb442958",
   "metadata": {},
   "outputs": [],
   "source": [
    "clean=re.sub(r'\\d+',' ',paragraph) #or re.sub(r'\\[[0-9]*\\]',' ',paragraph)or my own method re.sub('[0-9]+',' ',paragraph\n",
    "clean=re.sub(r'\\s+',' ',clean)#replacing whitespaces-spaces,tabs,newlines\n",
    "clean=clean.lower()\n",
    "clean=re.sub(r'\\d+',' ',clean)# remove digits of 0-9 ,+ indicates if 11 22 35 that also will be removed\n",
    "clean=re.sub(r'\\s+',' ',clean)#replacing whitespaces-spaces,tabs,newlines"
   ]
  },
  {
   "cell_type": "code",
   "execution_count": 8,
   "id": "dc4d3569",
   "metadata": {},
   "outputs": [
    {
     "name": "stdout",
     "output_type": "stream",
     "text": [
      "1884\n"
     ]
    }
   ],
   "source": [
    "print(len(clean))"
   ]
  },
  {
   "cell_type": "code",
   "execution_count": 13,
   "id": "8ff9cae6",
   "metadata": {},
   "outputs": [
    {
     "name": "stdout",
     "output_type": "stream",
     "text": [
      "i have three visions for india. in years of our history, people from all over the world have come and invaded us, captured our lands, conquered our minds. from alexander onwards, the greeks, the turks, the moguls, the portuguese, the british, the french, the dutch, all of them came and looted us, took over what was ours. yet we have not done this to any other nation. we have not conquered anyone. we have not grabbed their land, their culture, their history and tried to enforce our way of life on them. why? because we respect the freedom of others.that is why my first vision is that of freedom. i believe that india got its first vision of this in , when we started the war of independence. it is this freedom that we must protect and nurture and build on. if we are not free, no one will respect us. my second vision for india’s development. for fifty years we have been a developing nation. it is time we see ourselves as a developed nation. we are among the top nations of the world in terms of gdp. we have a percent growth rate in most areas. our poverty levels are falling. our achievements are being globally recognised today. yet we lack the self-confidence to see ourselves as a developed nation, self-reliant and self-assured. isn’t this incorrect? i have a third vision. india must stand up to the world. because i believe that unless india stands up to the world, no one will respect us. only strength respects strength. we must be strong not only as a military power but also as an economic power. both must go hand-in-hand. my good fortune was to have worked with three great minds. dr. vikram sarabhai of the dept. of space, professor satish dhawan, who succeeded him and dr. brahm prakash, father of nuclear material. i was lucky to have worked with all three of them closely and consider this the great opportunity of my life. i see four milestones in my career\n"
     ]
    }
   ],
   "source": [
    "print(clean)"
   ]
  },
  {
   "cell_type": "code",
   "execution_count": 10,
   "id": "39dd4a49",
   "metadata": {},
   "outputs": [
    {
     "name": "stdout",
     "output_type": "stream",
     "text": [
      "<class 'str'>\n"
     ]
    }
   ],
   "source": [
    "print(type(clean))"
   ]
  },
  {
   "cell_type": "code",
   "execution_count": 11,
   "id": "0c529700",
   "metadata": {},
   "outputs": [],
   "source": [
    "sentences=sent_tokenize(clean)"
   ]
  },
  {
   "cell_type": "code",
   "execution_count": 15,
   "id": "f4ac837e",
   "metadata": {},
   "outputs": [
    {
     "name": "stdout",
     "output_type": "stream",
     "text": [
      "<class 'list'>\n"
     ]
    }
   ],
   "source": [
    "print(type(sentences))"
   ]
  },
  {
   "cell_type": "code",
   "execution_count": 17,
   "id": "31b067fb",
   "metadata": {},
   "outputs": [],
   "source": [
    "sentences=[word_tokenize(word) for word in sentences]"
   ]
  },
  {
   "cell_type": "code",
   "execution_count": 19,
   "id": "6bac44cf",
   "metadata": {},
   "outputs": [
    {
     "name": "stdout",
     "output_type": "stream",
     "text": [
      "[['i', 'have', 'three', 'visions', 'for', 'india', '.'], ['in', 'years', 'of', 'our', 'history', ',', 'people', 'from', 'all', 'over', 'the', 'world', 'have', 'come', 'and', 'invaded', 'us', ',', 'captured', 'our', 'lands', ',', 'conquered', 'our', 'minds', '.'], ['from', 'alexander', 'onwards', ',', 'the', 'greeks', ',', 'the', 'turks', ',', 'the', 'moguls', ',', 'the', 'portuguese', ',', 'the', 'british', ',', 'the', 'french', ',', 'the', 'dutch', ',', 'all', 'of', 'them', 'came', 'and', 'looted', 'us', ',', 'took', 'over', 'what', 'was', 'ours', '.'], ['yet', 'we', 'have', 'not', 'done', 'this', 'to', 'any', 'other', 'nation', '.'], ['we', 'have', 'not', 'conquered', 'anyone', '.'], ['we', 'have', 'not', 'grabbed', 'their', 'land', ',', 'their', 'culture', ',', 'their', 'history', 'and', 'tried', 'to', 'enforce', 'our', 'way', 'of', 'life', 'on', 'them', '.'], ['why', '?'], ['because', 'we', 'respect', 'the', 'freedom', 'of', 'others.that', 'is', 'why', 'my', 'first', 'vision', 'is', 'that', 'of', 'freedom', '.'], ['i', 'believe', 'that', 'india', 'got', 'its', 'first', 'vision', 'of', 'this', 'in', ',', 'when', 'we', 'started', 'the', 'war', 'of', 'independence', '.'], ['it', 'is', 'this', 'freedom', 'that', 'we', 'must', 'protect', 'and', 'nurture', 'and', 'build', 'on', '.'], ['if', 'we', 'are', 'not', 'free', ',', 'no', 'one', 'will', 'respect', 'us', '.'], ['my', 'second', 'vision', 'for', 'india', '’', 's', 'development', '.'], ['for', 'fifty', 'years', 'we', 'have', 'been', 'a', 'developing', 'nation', '.'], ['it', 'is', 'time', 'we', 'see', 'ourselves', 'as', 'a', 'developed', 'nation', '.'], ['we', 'are', 'among', 'the', 'top', 'nations', 'of', 'the', 'world', 'in', 'terms', 'of', 'gdp', '.'], ['we', 'have', 'a', 'percent', 'growth', 'rate', 'in', 'most', 'areas', '.'], ['our', 'poverty', 'levels', 'are', 'falling', '.'], ['our', 'achievements', 'are', 'being', 'globally', 'recognised', 'today', '.'], ['yet', 'we', 'lack', 'the', 'self-confidence', 'to', 'see', 'ourselves', 'as', 'a', 'developed', 'nation', ',', 'self-reliant', 'and', 'self-assured', '.'], ['isn', '’', 't', 'this', 'incorrect', '?'], ['i', 'have', 'a', 'third', 'vision', '.'], ['india', 'must', 'stand', 'up', 'to', 'the', 'world', '.'], ['because', 'i', 'believe', 'that', 'unless', 'india', 'stands', 'up', 'to', 'the', 'world', ',', 'no', 'one', 'will', 'respect', 'us', '.'], ['only', 'strength', 'respects', 'strength', '.'], ['we', 'must', 'be', 'strong', 'not', 'only', 'as', 'a', 'military', 'power', 'but', 'also', 'as', 'an', 'economic', 'power', '.'], ['both', 'must', 'go', 'hand-in-hand', '.'], ['my', 'good', 'fortune', 'was', 'to', 'have', 'worked', 'with', 'three', 'great', 'minds', '.'], ['dr.', 'vikram', 'sarabhai', 'of', 'the', 'dept', '.'], ['of', 'space', ',', 'professor', 'satish', 'dhawan', ',', 'who', 'succeeded', 'him', 'and', 'dr.', 'brahm', 'prakash', ',', 'father', 'of', 'nuclear', 'material', '.'], ['i', 'was', 'lucky', 'to', 'have', 'worked', 'with', 'all', 'three', 'of', 'them', 'closely', 'and', 'consider', 'this', 'the', 'great', 'opportunity', 'of', 'my', 'life', '.'], ['i', 'see', 'four', 'milestones', 'in', 'my', 'career']]\n"
     ]
    }
   ],
   "source": [
    "print(sentences)"
   ]
  },
  {
   "cell_type": "code",
   "execution_count": 20,
   "id": "1cf61493",
   "metadata": {},
   "outputs": [],
   "source": [
    "for i in range(len(sentences)):\n",
    "    sentences[i]=[word for word in sentences[i] if word not in set(stopwords.words('english'))]"
   ]
  },
  {
   "cell_type": "code",
   "execution_count": 22,
   "id": "f45e1a3f",
   "metadata": {},
   "outputs": [
    {
     "name": "stdout",
     "output_type": "stream",
     "text": [
      "[['three', 'visions', 'india', '.'], ['years', 'history', ',', 'people', 'world', 'come', 'invaded', 'us', ',', 'captured', 'lands', ',', 'conquered', 'minds', '.'], ['alexander', 'onwards', ',', 'greeks', ',', 'turks', ',', 'moguls', ',', 'portuguese', ',', 'british', ',', 'french', ',', 'dutch', ',', 'came', 'looted', 'us', ',', 'took', '.'], ['yet', 'done', 'nation', '.'], ['conquered', 'anyone', '.'], ['grabbed', 'land', ',', 'culture', ',', 'history', 'tried', 'enforce', 'way', 'life', '.'], ['?'], ['respect', 'freedom', 'others.that', 'first', 'vision', 'freedom', '.'], ['believe', 'india', 'got', 'first', 'vision', ',', 'started', 'war', 'independence', '.'], ['freedom', 'must', 'protect', 'nurture', 'build', '.'], ['free', ',', 'one', 'respect', 'us', '.'], ['second', 'vision', 'india', '’', 'development', '.'], ['fifty', 'years', 'developing', 'nation', '.'], ['time', 'see', 'developed', 'nation', '.'], ['among', 'top', 'nations', 'world', 'terms', 'gdp', '.'], ['percent', 'growth', 'rate', 'areas', '.'], ['poverty', 'levels', 'falling', '.'], ['achievements', 'globally', 'recognised', 'today', '.'], ['yet', 'lack', 'self-confidence', 'see', 'developed', 'nation', ',', 'self-reliant', 'self-assured', '.'], ['’', 'incorrect', '?'], ['third', 'vision', '.'], ['india', 'must', 'stand', 'world', '.'], ['believe', 'unless', 'india', 'stands', 'world', ',', 'one', 'respect', 'us', '.'], ['strength', 'respects', 'strength', '.'], ['must', 'strong', 'military', 'power', 'also', 'economic', 'power', '.'], ['must', 'go', 'hand-in-hand', '.'], ['good', 'fortune', 'worked', 'three', 'great', 'minds', '.'], ['dr.', 'vikram', 'sarabhai', 'dept', '.'], ['space', ',', 'professor', 'satish', 'dhawan', ',', 'succeeded', 'dr.', 'brahm', 'prakash', ',', 'father', 'nuclear', 'material', '.'], ['lucky', 'worked', 'three', 'closely', 'consider', 'great', 'opportunity', 'life', '.'], ['see', 'four', 'milestones', 'career']]\n"
     ]
    }
   ],
   "source": [
    "print(sentences)"
   ]
  },
  {
   "cell_type": "code",
   "execution_count": 24,
   "id": "e85ea419",
   "metadata": {},
   "outputs": [],
   "source": [
    "model=Word2Vec(sentences,min_count=1)"
   ]
  },
  {
   "cell_type": "code",
   "execution_count": 25,
   "id": "0db72443",
   "metadata": {},
   "outputs": [],
   "source": [
    "words=model.wv.key_to_index"
   ]
  },
  {
   "cell_type": "code",
   "execution_count": 26,
   "id": "8bc3a410",
   "metadata": {},
   "outputs": [],
   "source": [
    "vector=model.wv['war']"
   ]
  },
  {
   "cell_type": "code",
   "execution_count": 27,
   "id": "739f408d",
   "metadata": {},
   "outputs": [
    {
     "data": {
      "text/plain": [
       "(100,)"
      ]
     },
     "execution_count": 27,
     "metadata": {},
     "output_type": "execute_result"
    }
   ],
   "source": [
    "vector.shape"
   ]
  },
  {
   "cell_type": "code",
   "execution_count": 30,
   "id": "f251fedc",
   "metadata": {},
   "outputs": [],
   "source": [
    "similarity=model.wv.most_similar('invaded')"
   ]
  },
  {
   "cell_type": "code",
   "execution_count": 31,
   "id": "a040a362",
   "metadata": {},
   "outputs": [
    {
     "data": {
      "text/plain": [
       "[('lucky', 0.2713918685913086),\n",
       " ('world', 0.24924340844154358),\n",
       " ('got', 0.2294856160879135),\n",
       " ('worked', 0.19341005384922028),\n",
       " ('father', 0.18935352563858032),\n",
       " ('poverty', 0.1840214729309082),\n",
       " ('come', 0.17314212024211884),\n",
       " ('portuguese', 0.16983787715435028),\n",
       " ('three', 0.1689760684967041),\n",
       " ('anyone', 0.16505083441734314)]"
      ]
     },
     "execution_count": 31,
     "metadata": {},
     "output_type": "execute_result"
    }
   ],
   "source": [
    "similarity"
   ]
  },
  {
   "cell_type": "code",
   "execution_count": null,
   "id": "2e6161d7",
   "metadata": {},
   "outputs": [],
   "source": []
  }
 ],
 "metadata": {
  "kernelspec": {
   "display_name": "Python 3 (ipykernel)",
   "language": "python",
   "name": "python3"
  },
  "language_info": {
   "codemirror_mode": {
    "name": "ipython",
    "version": 3
   },
   "file_extension": ".py",
   "mimetype": "text/x-python",
   "name": "python",
   "nbconvert_exporter": "python",
   "pygments_lexer": "ipython3",
   "version": "3.9.13"
  }
 },
 "nbformat": 4,
 "nbformat_minor": 5
}
