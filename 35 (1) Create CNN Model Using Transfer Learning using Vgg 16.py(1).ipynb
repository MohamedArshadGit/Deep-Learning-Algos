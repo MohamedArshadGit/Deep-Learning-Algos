{
 "cells": [
  {
   "cell_type": "code",
   "execution_count": 1,
   "id": "73ef5884",
   "metadata": {},
   "outputs": [],
   "source": [
    "from keras import optimizers\n",
    "import tensorflow as tf\n",
    "from keras.layers import Input, Lambda, Dense, Flatten,GlobalAveragePooling2D,BatchNormalization,Dropout\n",
    "from keras.models import Model\n",
    "from keras.applications.vgg16 import VGG16 #VGG16\n",
    "from keras.applications.vgg16 import preprocess_input #the input data is processed in the same way that the VGG16 model was trained on ImageNet data\n",
    "# It scales the pixel values by a factor (usually 1/255) to normalize the input data to the [0, 1] range\n",
    "from keras.preprocessing import image\n",
    "from keras.preprocessing.image import ImageDataGenerator\n",
    "from keras.models import Sequential\n",
    "import numpy as np\n",
    "from glob import glob\n",
    "import matplotlib.pyplot as plt"
   ]
  },
  {
   "cell_type": "code",
   "execution_count": 2,
   "id": "1286159b",
   "metadata": {},
   "outputs": [],
   "source": [
    "from keras import layers"
   ]
  },
  {
   "cell_type": "code",
   "execution_count": 3,
   "id": "04cfafd6",
   "metadata": {},
   "outputs": [],
   "source": [
    "# re-size all the images to this\n",
    "IMAGE_SIZE = [224, 224] #to pass into vgg16 we need to use 224*224"
   ]
  },
  {
   "cell_type": "code",
   "execution_count": 4,
   "id": "1d192a4e",
   "metadata": {},
   "outputs": [],
   "source": [
    "train_path = r'C:\\Users\\Mohamed Arshad\\Downloads\\archive(2)\\chest_xray\\train'\n",
    "test_path = r'C:\\Users\\Mohamed Arshad\\Downloads\\archive(2)\\chest_xray\\test'"
   ]
  },
  {
   "cell_type": "code",
   "execution_count": 5,
   "id": "80130d54",
   "metadata": {},
   "outputs": [],
   "source": [
    "# add preprocessing layer to the front of VGG\n",
    "vgg = VGG16(input_shape=IMAGE_SIZE + [3], weights='imagenet', include_top=False) #False -custom image classification problem or using it for object detection, image segmentation, or any other task where you want to leverage the pre-trained convolutional layers while adding your own custom layers on top."
   ]
  },
  {
   "cell_type": "code",
   "execution_count": 6,
   "id": "37ea0e45",
   "metadata": {},
   "outputs": [],
   "source": [
    "# don't train existing weights\n",
    "for layer in vgg.layers:\n",
    "  layer.trainable = False"
   ]
  },
  {
   "cell_type": "code",
   "execution_count": 7,
   "id": "7f22af45",
   "metadata": {},
   "outputs": [],
   "source": [
    "  # useful for getting number of classes\n",
    "folders = glob('C:/Users/Mohamed Arshad/Downloads/archive(2)/chest_xray/train/*')"
   ]
  },
  {
   "cell_type": "code",
   "execution_count": 8,
   "id": "eff9c685",
   "metadata": {},
   "outputs": [
    {
     "name": "stdout",
     "output_type": "stream",
     "text": [
      "2\n"
     ]
    }
   ],
   "source": [
    "print(len(folders))"
   ]
  },
  {
   "cell_type": "code",
   "execution_count": 9,
   "id": "c6b89053",
   "metadata": {},
   "outputs": [],
   "source": [
    "# our layers - you can add more if you want\n",
    "x = Flatten()(vgg.output)\n",
    "# x = Dense(1000, activation='relu')(x)\n",
    "prediction = Dense(len(folders), activation='relu')(x)"
   ]
  },
  {
   "cell_type": "code",
   "execution_count": 10,
   "id": "b95c77ec",
   "metadata": {},
   "outputs": [],
   "source": [
    "# create a model object\n",
    "#model = Model(inputs=vgg.input, outputs=prediction)"
   ]
  },
  {
   "cell_type": "code",
   "execution_count": 11,
   "id": "32c08d3b",
   "metadata": {},
   "outputs": [],
   "source": [
    "vgg = Sequential([\n",
    "        vgg,\n",
    "        GlobalAveragePooling2D(),#used for feature extraction takes average and gives single value of 1*1,it also prevents overfitting\n",
    "        Dense(512, activation=\"relu\"),\n",
    "        BatchNormalization(),#it normalises the previous layer with mean close to o and standard deviation of 1\n",
    "        Dropout(0.6),\n",
    "        Dense(128, activation=\"relu\"),\n",
    "        BatchNormalization(),\n",
    "        Dropout(0.4),\n",
    "        Dense(64,activation=\"relu\"),\n",
    "        BatchNormalization(),\n",
    "        Dropout(0.3),\n",
    "        Dense(1,activation=\"sigmoid\")\n",
    "    ])"
   ]
  },
  {
   "cell_type": "code",
   "execution_count": 12,
   "id": "d3c48e69",
   "metadata": {},
   "outputs": [],
   "source": [
    "opt = optimizers.Adam(learning_rate=0.001)\n",
    "METRICS = [\n",
    "        'accuracy',\n",
    "        tf.keras.metrics.Precision(name='precision'),\n",
    "        tf.keras.metrics.Recall(name='recall')\n",
    "    ]"
   ]
  },
  {
   "cell_type": "code",
   "execution_count": 13,
   "id": "714698e3",
   "metadata": {},
   "outputs": [
    {
     "name": "stdout",
     "output_type": "stream",
     "text": [
      "Model: \"sequential\"\n",
      "_________________________________________________________________\n",
      " Layer (type)                Output Shape              Param #   \n",
      "=================================================================\n",
      " vgg16 (Functional)          (None, 7, 7, 512)         14714688  \n",
      "                                                                 \n",
      " global_average_pooling2d (  (None, 512)               0         \n",
      " GlobalAveragePooling2D)                                         \n",
      "                                                                 \n",
      " dense_1 (Dense)             (None, 512)               262656    \n",
      "                                                                 \n",
      " batch_normalization (Batch  (None, 512)               2048      \n",
      " Normalization)                                                  \n",
      "                                                                 \n",
      " dropout (Dropout)           (None, 512)               0         \n",
      "                                                                 \n",
      " dense_2 (Dense)             (None, 128)               65664     \n",
      "                                                                 \n",
      " batch_normalization_1 (Bat  (None, 128)               512       \n",
      " chNormalization)                                                \n",
      "                                                                 \n",
      " dropout_1 (Dropout)         (None, 128)               0         \n",
      "                                                                 \n",
      " dense_3 (Dense)             (None, 64)                8256      \n",
      "                                                                 \n",
      " batch_normalization_2 (Bat  (None, 64)                256       \n",
      " chNormalization)                                                \n",
      "                                                                 \n",
      " dropout_2 (Dropout)         (None, 64)                0         \n",
      "                                                                 \n",
      " dense_4 (Dense)             (None, 1)                 65        \n",
      "                                                                 \n",
      "=================================================================\n",
      "Total params: 15054145 (57.43 MB)\n",
      "Trainable params: 338049 (1.29 MB)\n",
      "Non-trainable params: 14716096 (56.14 MB)\n",
      "_________________________________________________________________\n"
     ]
    }
   ],
   "source": [
    "\n",
    "# view the structure of the model\n",
    "vgg.summary()"
   ]
  },
  {
   "cell_type": "code",
   "execution_count": 14,
   "id": "79f7581d",
   "metadata": {},
   "outputs": [],
   "source": [
    "# tell the model what cost and optimization method to use\n",
    "vgg.compile(\n",
    "  loss='binary_crossentropy',\n",
    "  optimizer='adam',\n",
    "  metrics=METRICS\n",
    ")"
   ]
  },
  {
   "cell_type": "code",
   "execution_count": 15,
   "id": "f51560cc",
   "metadata": {},
   "outputs": [
    {
     "name": "stdout",
     "output_type": "stream",
     "text": [
      "Found 5216 images belonging to 2 classes.\n",
      "Found 624 images belonging to 2 classes.\n"
     ]
    }
   ],
   "source": [
    "from keras.preprocessing.image import ImageDataGenerator\n",
    "\n",
    "train_datagen = ImageDataGenerator(rescale = 1./255,\n",
    "                                   shear_range = 0.2,\n",
    "                                   zoom_range = 0.2,\n",
    "                                   horizontal_flip = True)\n",
    "\n",
    "test_datagen = ImageDataGenerator(rescale = 1./255)\n",
    "\n",
    "training_set = train_datagen.flow_from_directory(train_path,\n",
    "                                                 target_size = (224, 224),\n",
    "                                                 batch_size = 32,\n",
    "                                                 class_mode = 'binary')\n",
    "\n",
    "test_set = test_datagen.flow_from_directory(test_path,\n",
    "                                            target_size = (224, 224),\n",
    "                                            batch_size = 32,\n",
    "                                            class_mode = 'binary')"
   ]
  },
  {
   "cell_type": "code",
   "execution_count": 16,
   "id": "80a42731",
   "metadata": {},
   "outputs": [
    {
     "name": "stderr",
     "output_type": "stream",
     "text": [
      "C:\\Users\\Mohamed Arshad\\AppData\\Local\\Temp\\ipykernel_18512\\3361455661.py:2: UserWarning: `Model.fit_generator` is deprecated and will be removed in a future version. Please use `Model.fit`, which supports generators.\n",
      "  r = vgg.fit_generator(\n"
     ]
    },
    {
     "name": "stdout",
     "output_type": "stream",
     "text": [
      "163/163 [==============================] - 459s 3s/step - loss: 0.3749 - accuracy: 0.8495 - precision: 0.9478 - recall: 0.8439 - val_loss: 0.7852 - val_accuracy: 0.6330 - val_precision: 0.6300 - val_recall: 1.0000\n"
     ]
    }
   ],
   "source": [
    "# fit the model\n",
    "r = vgg.fit_generator(\n",
    "  training_set,\n",
    "  validation_data=test_set,\n",
    "  epochs=1,\n",
    "  steps_per_epoch=len(training_set),\n",
    "  validation_steps=len(test_set)\n",
    ")"
   ]
  },
  {
   "cell_type": "code",
   "execution_count": 17,
   "id": "60a55908",
   "metadata": {},
   "outputs": [
    {
     "data": {
      "image/png": "[encoded data removed]",
      "text/plain": [
       "<Figure size 640x480 with 1 Axes>"
      ]
     },
     "metadata": {},
     "output_type": "display_data"
    },
    {
     "data": {
      "text/plain": [
       "<Figure size 640x480 with 0 Axes>"
      ]
     },
     "metadata": {},
     "output_type": "display_data"
    }
   ],
   "source": [
    "# loss\n",
    "plt.plot(r.history['loss'], label='train loss')\n",
    "plt.plot(r.history['val_loss'], label='val loss')\n",
    "plt.legend()\n",
    "plt.show()\n",
    "plt.savefig('LossVal_loss')"
   ]
  },
  {
   "cell_type": "code",
   "execution_count": 18,
   "id": "a42b4fb3",
   "metadata": {},
   "outputs": [
    {
     "data": {
      "text/plain": [
       "dict_keys(['loss', 'accuracy', 'precision', 'recall', 'val_loss', 'val_accuracy', 'val_precision', 'val_recall'])"
      ]
     },
     "execution_count": 18,
     "metadata": {},
     "output_type": "execute_result"
    }
   ],
   "source": [
    "r.history.keys()"
   ]
  },
  {
   "cell_type": "code",
   "execution_count": 19,
   "id": "e04817a0",
   "metadata": {},
   "outputs": [
    {
     "data": {
      "text/plain": [
       "[0.8495015501976013]"
      ]
     },
     "execution_count": 19,
     "metadata": {},
     "output_type": "execute_result"
    }
   ],
   "source": [
    "r.history['accuracy']"
   ]
  },
  {
   "cell_type": "code",
   "execution_count": 20,
   "id": "e0a22f77",
   "metadata": {},
   "outputs": [
    {
     "data": {
      "text/plain": [
       "[0.6330128312110901]"
      ]
     },
     "execution_count": 20,
     "metadata": {},
     "output_type": "execute_result"
    }
   ],
   "source": [
    "r.history['val_accuracy']"
   ]
  },
  {
   "cell_type": "code",
   "execution_count": 21,
   "id": "e3282cbd",
   "metadata": {},
   "outputs": [
    {
     "data": {
      "image/png": "[encoded data removed]",
      "text/plain": [
       "<Figure size 640x480 with 1 Axes>"
      ]
     },
     "metadata": {},
     "output_type": "display_data"
    },
    {
     "data": {
      "text/plain": [
       "<Figure size 640x480 with 0 Axes>"
      ]
     },
     "metadata": {},
     "output_type": "display_data"
    }
   ],
   "source": [
    "# accuracies\n",
    "plt.plot(r.history['accuracy'], label='train acc')\n",
    "plt.plot(r.history['val_accuracy'], label='val acc')\n",
    "plt.legend()\n",
    "plt.show()\n",
    "plt.savefig('AccVal_acc')"
   ]
  },
  {
   "cell_type": "code",
   "execution_count": 22,
   "id": "e54c3c31",
   "metadata": {},
   "outputs": [],
   "source": [
    "import tensorflow as tf\n",
    "\n",
    "# +\n",
    "#from keras.models import load_model\n",
    "# -\n",
    "\n",
    "# model.save('facefeatures_new_model.h5')"
   ]
  },
  {
   "cell_type": "code",
   "execution_count": null,
   "id": "872abc5b",
   "metadata": {},
   "outputs": [],
   "source": []
  }
 ],
 "metadata": {
  "kernelspec": {
   "display_name": "Python 3 (ipykernel)",
   "language": "python",
   "name": "python3"
  },
  "language_info": {
   "codemirror_mode": {
    "name": "ipython",
    "version": 3
   },
   "file_extension": ".py",
   "mimetype": "text/x-python",
   "name": "python",
   "nbconvert_exporter": "python",
   "pygments_lexer": "ipython3",
   "version": "3.11.4"
  }
 },
 "nbformat": 4,
 "nbformat_minor": 5
}
