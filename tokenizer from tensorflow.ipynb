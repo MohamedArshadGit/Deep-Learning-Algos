{
 "cells": [
  {
   "cell_type": "code",
   "execution_count": 1,
   "id": "7c60acd4",
   "metadata": {},
   "outputs": [],
   "source": [
    "import tensorflow"
   ]
  },
  {
   "cell_type": "code",
   "execution_count": 4,
   "id": "66a085e8",
   "metadata": {},
   "outputs": [
    {
     "name": "stdout",
     "output_type": "stream",
     "text": [
      "Word Index:\n",
      "{'sentence': 1, 'this': 2, 'is': 3, 'a': 4, 'sample': 5, 'another': 6, 'example': 7}\n",
      "\n",
      "Padded Sequences:\n",
      "[[2 3 4 5 1]\n",
      " [0 0 6 7 1]]\n"
     ]
    }
   ],
   "source": [
    "from tensorflow.keras.preprocessing.text import Tokenizer\n",
    "from tensorflow.keras.preprocessing.sequence import pad_sequences\n",
    "\n",
    "# Sample text data\n",
    "texts = [\"This is a sample sentence.\", \"Another example sentence.\"]\n",
    "\n",
    "# Create a tokenizer and fit it on the text data\n",
    "tokenizer = Tokenizer()\n",
    "tokenizer.fit_on_texts(texts)\n",
    "\n",
    "# Convert text to sequences of numbers\n",
    "sequences = tokenizer.texts_to_sequences(texts)\n",
    "\n",
    "# Padding sequences to the same length\n",
    "padded_sequences = pad_sequences(sequences)\n",
    "\n",
    "# Access the word index\n",
    "word_index = tokenizer.word_index\n",
    "\n",
    "print(\"Word Index:\")\n",
    "print(word_index)\n",
    "print(\"\\nPadded Sequences:\")\n",
    "print(padded_sequences)\n"
   ]
  },
  {
   "cell_type": "code",
   "execution_count": 6,
   "id": "0e275837",
   "metadata": {},
   "outputs": [],
   "source": [
    "from tensorflow.keras.preprocessing.text import Tokenizer\n",
    "from tensorflow.keras.preprocessing.sequence import pad_sequences"
   ]
  },
  {
   "cell_type": "code",
   "execution_count": 9,
   "id": "2c429df0",
   "metadata": {},
   "outputs": [],
   "source": [
    "tokenize=Tokenizer()\n",
    "texts = [\"This is a sample sentence.\", \"Another example sentence.\"]\n",
    "tokenize.fit_on_texts(texts)"
   ]
  },
  {
   "cell_type": "code",
   "execution_count": 15,
   "id": "3731c81c",
   "metadata": {},
   "outputs": [],
   "source": [
    "pre_padding=tokenize.texts_to_sequences(texts)"
   ]
  },
  {
   "cell_type": "code",
   "execution_count": 16,
   "id": "457eee47",
   "metadata": {},
   "outputs": [
    {
     "name": "stdout",
     "output_type": "stream",
     "text": [
      "[[2, 3, 4, 5, 1], [6, 7, 1]]\n"
     ]
    }
   ],
   "source": [
    "print(pre_padding)"
   ]
  },
  {
   "cell_type": "code",
   "execution_count": 17,
   "id": "119e26a8",
   "metadata": {},
   "outputs": [
    {
     "name": "stdout",
     "output_type": "stream",
     "text": [
      "[[2 3 4 5 1]\n",
      " [0 0 6 7 1]]\n"
     ]
    }
   ],
   "source": [
    "padded_seq=pad_sequences(sequences=pre_padding)\n",
    "print(padded_seq)"
   ]
  },
  {
   "cell_type": "code",
   "execution_count": 18,
   "id": "083dee55",
   "metadata": {},
   "outputs": [
    {
     "data": {
      "text/plain": [
       "{'sentence': 1,\n",
       " 'this': 2,\n",
       " 'is': 3,\n",
       " 'a': 4,\n",
       " 'sample': 5,\n",
       " 'another': 6,\n",
       " 'example': 7}"
      ]
     },
     "execution_count": 18,
     "metadata": {},
     "output_type": "execute_result"
    }
   ],
   "source": [
    "tokenize.word_index"
   ]
  },
  {
   "cell_type": "code",
   "execution_count": 20,
   "id": "185bb36e",
   "metadata": {},
   "outputs": [
    {
     "data": {
      "text/plain": [
       "{1: 'sentence',\n",
       " 2: 'this',\n",
       " 3: 'is',\n",
       " 4: 'a',\n",
       " 5: 'sample',\n",
       " 6: 'another',\n",
       " 7: 'example'}"
      ]
     },
     "execution_count": 20,
     "metadata": {},
     "output_type": "execute_result"
    }
   ],
   "source": [
    "tokenize.index_word"
   ]
  },
  {
   "cell_type": "code",
   "execution_count": null,
   "id": "9ffcd12c",
   "metadata": {},
   "outputs": [],
   "source": []
  }
 ],
 "metadata": {
  "kernelspec": {
   "display_name": "Python 3 (ipykernel)",
   "language": "python",
   "name": "python3"
  },
  "language_info": {
   "codemirror_mode": {
    "name": "ipython",
    "version": 3
   },
   "file_extension": ".py",
   "mimetype": "text/x-python",
   "name": "python",
   "nbconvert_exporter": "python",
   "pygments_lexer": "ipython3",
   "version": "3.11.4"
  }
 },
 "nbformat": 4,
 "nbformat_minor": 5
}
